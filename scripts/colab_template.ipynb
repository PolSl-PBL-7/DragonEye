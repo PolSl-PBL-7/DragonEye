{
  "cells": [
    {
      "cell_type": "code",
      "execution_count": null,
      "metadata": {
        "id": "Vq1SQn3sSbgf"
      },
      "outputs": [],
      "source": [
        "# Clone repo if not cloned yet\n",
        "![[ -d \"DragonEye\" ]] || \\\n",
        "  git clone http://github.com/PolSl-PBL-7/DragonEye\n",
        "\n",
        "# install requirements, skip \n",
        "!cd DragonEye && \\\n",
        "  grep -Ev \"(flake8)\" requirements.txt | \\\n",
        "  xargs python3 -m pip install &> ../pip.log\n",
        "\n",
        "# run test to validate if everything is okay\n",
        "# remember to set correct WANDB_API_KEY for tests to run\n",
        "# or comment the whole testing procedure\n",
        "# !cd DragonEye && \\\n",
        "#   WANDB_API_KEY=<SET_ME> \\\n",
        "#   PYTHONPATH=.:${PYTHONPATH} \\\n",
        "#   make test\n",
        "\n",
        "# verify if python version meets minimal requirements\n",
        "def _python_version():\n",
        "  import sys\n",
        "  assert sys.version_info[0] >= 3\n",
        "  assert sys.version_info[1] >= 7\n",
        "  assert sys.version_info[2] >= 1\n",
        "  print(f'Python version OK {sys.version_info}')\n",
        "_python_version()\n",
        "\n",
        "# set tensorflow version\n",
        "# %tensorflow_version 2.x\n",
        "\n",
        "# verify if tensorflow version meets minimal requirements\n",
        "def _check_tf_version():\n",
        "  import tensorflow as tf\n",
        "  tf_version_info = [int(i) for i in tf.__version__.split('.')]\n",
        "  assert tf_version_info[0] >= 2\n",
        "  assert tf_version_info[1] >= 7\n",
        "  assert tf_version_info[2] >= 0\n",
        "  print(f'TensorFlow version OK {tf_version_info}')\n",
        "_check_tf_version()\n",
        "\n",
        "# import newely downloaded custom packages\n",
        "def _add_import_dirs(dirs: list) -> None:\n",
        "    import sys\n",
        "    for dir in dirs:\n",
        "        sys.path.append(dir)\n",
        "_add_import_dirs(['./DragonEye'])\n",
        "\n",
        "# test imports for new packages\n",
        "def _test_import():\n",
        "  from pipelines.data_processing_pipeline import NAME\n",
        "  assert NAME == \"data_processing_pipeline\"\n",
        "  print(\"import OK\")\n",
        "_test_import()"
      ]
    }
  ],
  "metadata": {
    "colab": {
      "collapsed_sections": [],
      "name": "colab_template.ipynb",
      "provenance": []
    },
    "kernelspec": {
      "display_name": "Python 3",
      "name": "python3"
    },
    "language_info": {
      "name": "python"
    }
  },
  "nbformat": 4,
  "nbformat_minor": 0
}
