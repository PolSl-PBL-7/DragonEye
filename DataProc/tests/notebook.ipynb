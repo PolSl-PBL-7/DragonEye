{
 "cells": [
  {
   "cell_type": "code",
   "execution_count": 1,
   "metadata": {},
   "outputs": [],
   "source": [
    "import os\n",
    "import pathlib\n",
    "if 'tests' in os.getcwd():\n",
    "    os.chdir('..')\n",
    "from source import * \n",
    "from process import * \n",
    "from sinks import *\n",
    "import numpy as np\n",
    "import tensorflow as tf"
   ]
  },
  {
   "cell_type": "code",
   "execution_count": 3,
   "metadata": {},
   "outputs": [],
   "source": [
    "vid = LocalVideoSource().load(r'tests\\test_data\\15.avi')"
   ]
  },
  {
   "cell_type": "code",
   "execution_count": 4,
   "metadata": {},
   "outputs": [
    {
     "data": {
      "text/plain": [
       "numpy.ndarray"
      ]
     },
     "execution_count": 4,
     "metadata": {},
     "output_type": "execute_result"
    }
   ],
   "source": [
    "type(vid)"
   ]
  },
  {
   "cell_type": "code",
   "execution_count": 5,
   "metadata": {},
   "outputs": [
    {
     "data": {
      "text/plain": [
       "(353, 360, 640, 3)"
      ]
     },
     "execution_count": 5,
     "metadata": {},
     "output_type": "execute_result"
    }
   ],
   "source": [
    "vid.shape"
   ]
  },
  {
   "cell_type": "code",
   "execution_count": 6,
   "metadata": {},
   "outputs": [],
   "source": [
    "shape = (300, 300)\n",
    "vid_dataset = VideoProcessor(shape=shape, time_window=20, batch_size=32).process(vid)"
   ]
  },
  {
   "cell_type": "code",
   "execution_count": 10,
   "metadata": {},
   "outputs": [
    {
     "name": "stdout",
     "output_type": "stream",
     "text": [
      "(32, 20, 300, 300, 3)\n",
      "(32, 20, 300, 300, 3)\n",
      "(32, 20, 300, 300, 3)\n",
      "(32, 20, 300, 300, 3)\n",
      "(32, 20, 300, 300, 3)\n",
      "(32, 20, 300, 300, 3)\n",
      "(32, 20, 300, 300, 3)\n",
      "(32, 20, 300, 300, 3)\n",
      "(32, 20, 300, 300, 3)\n",
      "(32, 20, 300, 300, 3)\n",
      "(14, 20, 300, 300, 3)\n"
     ]
    }
   ],
   "source": [
    "for batch in vid_dataset:\n",
    "    print(batch.shape)"
   ]
  },
  {
   "cell_type": "code",
   "execution_count": 11,
   "metadata": {},
   "outputs": [
    {
     "data": {
      "text/plain": [
       "<tensorflow.python.data.ops.dataset_ops._NumpyIterator at 0x218e713d790>"
      ]
     },
     "execution_count": 11,
     "metadata": {},
     "output_type": "execute_result"
    }
   ],
   "source": [
    "vid_dataset.as_numpy_iterator()"
   ]
  },
  {
   "cell_type": "code",
   "execution_count": 12,
   "metadata": {},
   "outputs": [],
   "source": [
    "LocalTFRecordSink().sink(vid_dataset, 'tests\\\\test_data\\\\tfdataset')"
   ]
  },
  {
   "cell_type": "code",
   "execution_count": 14,
   "metadata": {},
   "outputs": [],
   "source": [
    "vid_dataset_load = LocalTFDataSource().load('tests\\\\test_data\\\\tfdataset', batch_size=52)"
   ]
  },
  {
   "cell_type": "code",
   "execution_count": 15,
   "metadata": {},
   "outputs": [
    {
     "name": "stdout",
     "output_type": "stream",
     "text": [
      "(52, 20, 300, 300, 3)\n",
      "(52, 20, 300, 300, 3)\n",
      "(52, 20, 300, 300, 3)\n",
      "(52, 20, 300, 300, 3)\n",
      "(52, 20, 300, 300, 3)\n",
      "(52, 20, 300, 300, 3)\n",
      "(22, 20, 300, 300, 3)\n"
     ]
    }
   ],
   "source": [
    "for batch in vid_dataset_load:\n",
    "    print(batch.shape)"
   ]
  },
  {
   "cell_type": "code",
   "execution_count": null,
   "metadata": {},
   "outputs": [],
   "source": []
  }
 ],
 "metadata": {
  "interpreter": {
   "hash": "5bb0378d4ee4c0aff941e0dc4c26640714a7475a262217eccf73e6de1579f1e3"
  },
  "kernelspec": {
   "display_name": "Python 3.8.8 64-bit ('base': conda)",
   "name": "python3"
  },
  "language_info": {
   "codemirror_mode": {
    "name": "ipython",
    "version": 3
   },
   "file_extension": ".py",
   "mimetype": "text/x-python",
   "name": "python",
   "nbconvert_exporter": "python",
   "pygments_lexer": "ipython3",
   "version": "3.8.8"
  },
  "orig_nbformat": 4
 },
 "nbformat": 4,
 "nbformat_minor": 2
}
